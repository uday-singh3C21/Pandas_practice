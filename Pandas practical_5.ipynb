{
 "cells": [
  {
   "cell_type": "code",
   "execution_count": 1,
   "id": "4c7ef00e",
   "metadata": {},
   "outputs": [],
   "source": [
    "import numpy as np\n",
    "import pandas as pd"
   ]
  },
  {
   "cell_type": "code",
   "execution_count": 6,
   "id": "344e04eb",
   "metadata": {},
   "outputs": [
    {
     "data": {
      "text/html": [
       "<div>\n",
       "<style scoped>\n",
       "    .dataframe tbody tr th:only-of-type {\n",
       "        vertical-align: middle;\n",
       "    }\n",
       "\n",
       "    .dataframe tbody tr th {\n",
       "        vertical-align: top;\n",
       "    }\n",
       "\n",
       "    .dataframe thead th {\n",
       "        text-align: right;\n",
       "    }\n",
       "</style>\n",
       "<table border=\"1\" class=\"dataframe\">\n",
       "  <thead>\n",
       "    <tr style=\"text-align: right;\">\n",
       "      <th></th>\n",
       "      <th>id</th>\n",
       "      <th>first_name</th>\n",
       "      <th>last_name</th>\n",
       "      <th>email</th>\n",
       "      <th>gender</th>\n",
       "      <th>ip_address</th>\n",
       "    </tr>\n",
       "  </thead>\n",
       "  <tbody>\n",
       "    <tr>\n",
       "      <th>0</th>\n",
       "      <td>1</td>\n",
       "      <td>Merle</td>\n",
       "      <td>Malenfant</td>\n",
       "      <td>mmalenfant0@mashable.com</td>\n",
       "      <td>Female</td>\n",
       "      <td>226.191.37.4</td>\n",
       "    </tr>\n",
       "    <tr>\n",
       "      <th>1</th>\n",
       "      <td>2</td>\n",
       "      <td>Nanny</td>\n",
       "      <td>Limpkin</td>\n",
       "      <td>nlimpkin1@clickbank.net</td>\n",
       "      <td>Female</td>\n",
       "      <td>87.52.126.169</td>\n",
       "    </tr>\n",
       "    <tr>\n",
       "      <th>2</th>\n",
       "      <td>3</td>\n",
       "      <td>Winonah</td>\n",
       "      <td>Gullam</td>\n",
       "      <td>wgullam2@google.cn</td>\n",
       "      <td>Female</td>\n",
       "      <td>235.55.106.186</td>\n",
       "    </tr>\n",
       "    <tr>\n",
       "      <th>3</th>\n",
       "      <td>4</td>\n",
       "      <td>Cherye</td>\n",
       "      <td>Bowskill</td>\n",
       "      <td>cbowskill3@oakley.com</td>\n",
       "      <td>Female</td>\n",
       "      <td>176.140.109.222</td>\n",
       "    </tr>\n",
       "    <tr>\n",
       "      <th>4</th>\n",
       "      <td>5</td>\n",
       "      <td>Rik</td>\n",
       "      <td>Stoffler</td>\n",
       "      <td>rstoffler4@yale.edu</td>\n",
       "      <td>Male</td>\n",
       "      <td>40.237.46.143</td>\n",
       "    </tr>\n",
       "    <tr>\n",
       "      <th>...</th>\n",
       "      <td>...</td>\n",
       "      <td>...</td>\n",
       "      <td>...</td>\n",
       "      <td>...</td>\n",
       "      <td>...</td>\n",
       "      <td>...</td>\n",
       "    </tr>\n",
       "    <tr>\n",
       "      <th>95</th>\n",
       "      <td>96</td>\n",
       "      <td>Florentia</td>\n",
       "      <td>Shyram</td>\n",
       "      <td>fshyram2n@amazonaws.com</td>\n",
       "      <td>Female</td>\n",
       "      <td>25.193.231.101</td>\n",
       "    </tr>\n",
       "    <tr>\n",
       "      <th>96</th>\n",
       "      <td>97</td>\n",
       "      <td>Odessa</td>\n",
       "      <td>Legrave</td>\n",
       "      <td>olegrave2o@europa.eu</td>\n",
       "      <td>Female</td>\n",
       "      <td>207.42.187.205</td>\n",
       "    </tr>\n",
       "    <tr>\n",
       "      <th>97</th>\n",
       "      <td>98</td>\n",
       "      <td>Gonzales</td>\n",
       "      <td>Tattershall</td>\n",
       "      <td>gtattershall2p@list-manage.com</td>\n",
       "      <td>Male</td>\n",
       "      <td>219.79.237.218</td>\n",
       "    </tr>\n",
       "    <tr>\n",
       "      <th>98</th>\n",
       "      <td>99</td>\n",
       "      <td>Corney</td>\n",
       "      <td>Cregan</td>\n",
       "      <td>ccregan2q@ucoz.com</td>\n",
       "      <td>Male</td>\n",
       "      <td>185.114.105.90</td>\n",
       "    </tr>\n",
       "    <tr>\n",
       "      <th>99</th>\n",
       "      <td>100</td>\n",
       "      <td>Wenonah</td>\n",
       "      <td>Becerro</td>\n",
       "      <td>wbecerro2r@wikia.com</td>\n",
       "      <td>Female</td>\n",
       "      <td>117.82.50.58</td>\n",
       "    </tr>\n",
       "  </tbody>\n",
       "</table>\n",
       "<p>100 rows × 6 columns</p>\n",
       "</div>"
      ],
      "text/plain": [
       "     id first_name    last_name                           email  gender  \\\n",
       "0     1      Merle    Malenfant        mmalenfant0@mashable.com  Female   \n",
       "1     2      Nanny      Limpkin         nlimpkin1@clickbank.net  Female   \n",
       "2     3    Winonah       Gullam              wgullam2@google.cn  Female   \n",
       "3     4     Cherye     Bowskill           cbowskill3@oakley.com  Female   \n",
       "4     5        Rik     Stoffler             rstoffler4@yale.edu    Male   \n",
       "..  ...        ...          ...                             ...     ...   \n",
       "95   96  Florentia       Shyram         fshyram2n@amazonaws.com  Female   \n",
       "96   97     Odessa      Legrave            olegrave2o@europa.eu  Female   \n",
       "97   98   Gonzales  Tattershall  gtattershall2p@list-manage.com    Male   \n",
       "98   99     Corney       Cregan              ccregan2q@ucoz.com    Male   \n",
       "99  100    Wenonah      Becerro            wbecerro2r@wikia.com  Female   \n",
       "\n",
       "         ip_address  \n",
       "0      226.191.37.4  \n",
       "1     87.52.126.169  \n",
       "2    235.55.106.186  \n",
       "3   176.140.109.222  \n",
       "4     40.237.46.143  \n",
       "..              ...  \n",
       "95   25.193.231.101  \n",
       "96   207.42.187.205  \n",
       "97   219.79.237.218  \n",
       "98   185.114.105.90  \n",
       "99     117.82.50.58  \n",
       "\n",
       "[100 rows x 6 columns]"
      ]
     },
     "execution_count": 6,
     "metadata": {},
     "output_type": "execute_result"
    }
   ],
   "source": [
    "df=pd.read_csv(r\"C:\\Users\\USER\\Downloads\\MOCK_DATA.csv\")\n",
    "df"
   ]
  },
  {
   "cell_type": "markdown",
   "id": "52e82b25",
   "metadata": {},
   "source": [
    "# PANDAS GROUPBF FUNCTION"
   ]
  },
  {
   "cell_type": "code",
   "execution_count": 11,
   "id": "35c5d364",
   "metadata": {},
   "outputs": [
    {
     "data": {
      "text/plain": [
       "<pandas.core.groupby.generic.DataFrameGroupBy object at 0x000001C21E44AA90>"
      ]
     },
     "execution_count": 11,
     "metadata": {},
     "output_type": "execute_result"
    }
   ],
   "source": [
    "a=df.groupby(by='first_name')\n",
    "a"
   ]
  },
  {
   "cell_type": "code",
   "execution_count": 12,
   "id": "1c4a2ab3",
   "metadata": {},
   "outputs": [
    {
     "data": {
      "text/plain": [
       "{'Adams': [31], 'Adan': [8], 'Adolpho': [17], 'Alberta': [44], 'Alistair': [50], 'Amara': [84], 'Andreas': [27], 'Angelique': [63], 'Arie': [53], 'Averell': [47], 'Barbie': [36], 'Bink': [69], 'Brietta': [38], 'Carie': [20], 'Carmelia': [72], 'Casper': [19], 'Cassaundra': [66], 'Cherye': [3], 'Chickie': [5], 'Claudell': [10], 'Cloris': [40], 'Colene': [91], 'Corney': [98], 'Danya': [74], 'Deerdre': [22], 'Desi': [54], 'Doralynn': [81], 'Drud': [83], 'Drugi': [29], 'Dud': [89], 'Egbert': [12], 'Fabian': [56], 'Fairlie': [18], 'Fern': [79], 'Fernandina': [49], 'Fiona': [11], 'Florentia': [95], 'Florie': [88], 'Frasco': [25], 'Gabriel': [48], 'Gizela': [9], 'Gonzales': [97], 'Grady': [7], 'Grayce': [39], 'Hogan': [70], 'Hugues': [90], 'Jeno': [46], 'Jodi': [15], 'Kathlin': [33], 'Kev': [71], 'Ladonna': [34], 'Land': [73], 'Lani': [16], 'Leyla': [65], 'Lon': [58], 'Lowell': [68], 'Mathian': [45], 'Matteo': [55], 'Merle': [0], 'Mill': [94], 'Missy': [64], 'Nanny': [1], 'Neddie': [59], 'Nicola': [42], 'Nollie': [32], 'Odessa': [96], 'Orsa': [24], 'Pauletta': [85], 'Pavel': [67], 'Pegeen': [6], 'Pip': [41], 'Ramsey': [78], 'Reeta': [87], 'Rik': [4], 'Rivalee': [92], 'Romy': [14], 'Rouvin': [60], 'Royall': [51], 'Rriocard': [82], 'Saxon': [23], 'Shaun': [62], 'Shelley': [13], 'Sheppard': [26], 'Sibylle': [30], 'Storm': [35], 'Talbot': [61], 'Terry': [76], 'Theodor': [77], 'Tommi': [43], 'Torie': [57], 'Twila': [28], 'Vanessa': [80], 'Verina': [86], 'Vinny': [52], 'Wenonah': [99], 'Westleigh': [37], 'Will': [21], 'Willey': [75], 'Winifield': [93], 'Winonah': [2]}"
      ]
     },
     "execution_count": 12,
     "metadata": {},
     "output_type": "execute_result"
    }
   ],
   "source": [
    "a.groups"
   ]
  },
  {
   "cell_type": "code",
   "execution_count": 15,
   "id": "163e9181",
   "metadata": {},
   "outputs": [
    {
     "data": {
      "text/plain": [
       "{('Adams', 'Male'): [31], ('Adan', 'Female'): [8], ('Adolpho', 'Male'): [17], ('Alberta', 'Female'): [44], ('Alistair', 'Male'): [50], ('Amara', 'Female'): [84], ('Andreas', 'Agender'): [27], ('Angelique', 'Female'): [63], ('Arie', 'Male'): [53], ('Averell', 'Male'): [47], ('Barbie', 'Agender'): [36], ('Bink', 'Male'): [69], ('Brietta', 'Female'): [38], ('Carie', 'Female'): [20], ('Carmelia', 'Genderqueer'): [72], ('Casper', 'Male'): [19], ('Cassaundra', 'Female'): [66], ('Cherye', 'Female'): [3], ('Chickie', 'Female'): [5], ('Claudell', 'Male'): [10], ('Cloris', 'Female'): [40], ('Colene', 'Agender'): [91], ('Corney', 'Male'): [98], ('Danya', 'Genderqueer'): [74], ('Deerdre', 'Female'): [22], ('Desi', 'Male'): [54], ('Doralynn', 'Genderqueer'): [81], ('Drud', 'Male'): [83], ('Drugi', 'Male'): [29], ('Dud', 'Male'): [89], ('Egbert', 'Male'): [12], ('Fabian', 'Male'): [56], ('Fairlie', 'Male'): [18], ('Fern', 'Female'): [79], ('Fernandina', 'Female'): [49], ('Fiona', 'Female'): [11], ('Florentia', 'Female'): [95], ('Florie', 'Female'): [88], ('Frasco', 'Male'): [25], ('Gabriel', 'Male'): [48], ('Gizela', 'Female'): [9], ('Gonzales', 'Male'): [97], ('Grady', 'Male'): [7], ('Grayce', 'Female'): [39], ('Hogan', 'Male'): [70], ('Hugues', 'Male'): [90], ('Jeno', 'Male'): [46], ('Jodi', 'Male'): [15], ('Kathlin', 'Female'): [33], ('Kev', 'Male'): [71], ('Ladonna', 'Female'): [34], ('Land', 'Male'): [73], ('Lani', 'Bigender'): [16], ('Leyla', 'Female'): [65], ('Lon', 'Male'): [58], ('Lowell', 'Male'): [68], ('Mathian', 'Male'): [45], ('Matteo', 'Male'): [55], ('Merle', 'Female'): [0], ('Mill', 'Male'): [94], ('Missy', 'Female'): [64], ('Nanny', 'Female'): [1], ('Neddie', 'Male'): [59], ('Nicola', 'Male'): [42], ('Nollie', 'Bigender'): [32], ('Odessa', 'Female'): [96], ('Orsa', 'Female'): [24], ('Pauletta', 'Female'): [85], ('Pavel', 'Male'): [67], ('Pegeen', 'Female'): [6], ('Pip', 'Male'): [41], ('Ramsey', 'Male'): [78], ('Reeta', 'Female'): [87], ('Rik', 'Male'): [4], ('Rivalee', 'Female'): [92], ('Romy', 'Female'): [14], ('Rouvin', 'Bigender'): [60], ('Royall', 'Male'): [51], ('Rriocard', 'Male'): [82], ('Saxon', 'Male'): [23], ('Shaun', 'Female'): [62], ('Shelley', 'Male'): [13], ('Sheppard', 'Male'): [26], ('Sibylle', 'Bigender'): [30], ('Storm', 'Female'): [35], ('Talbot', 'Male'): [61], ('Terry', 'Male'): [76], ('Theodor', 'Male'): [77], ('Tommi', 'Female'): [43], ('Torie', 'Female'): [57], ('Twila', 'Female'): [28], ('Vanessa', 'Female'): [80], ('Verina', 'Female'): [86], ('Vinny', 'Male'): [52], ('Wenonah', 'Female'): [99], ('Westleigh', 'Male'): [37], ('Will', 'Male'): [21], ('Willey', 'Male'): [75], ('Winifield', 'Male'): [93], ('Winonah', 'Female'): [2]}"
      ]
     },
     "execution_count": 15,
     "metadata": {},
     "output_type": "execute_result"
    }
   ],
   "source": [
    "df.groupby(['first_name','gender']).groups"
   ]
  },
  {
   "cell_type": "code",
   "execution_count": 20,
   "id": "b3adbd28",
   "metadata": {},
   "outputs": [
    {
     "name": "stdout",
     "output_type": "stream",
     "text": [
      "i\n",
      "d\n"
     ]
    },
    {
     "ename": "ValueError",
     "evalue": "too many values to unpack (expected 2)",
     "output_type": "error",
     "traceback": [
      "\u001b[1;31m---------------------------------------------------------------------------\u001b[0m",
      "\u001b[1;31mValueError\u001b[0m                                Traceback (most recent call last)",
      "Cell \u001b[1;32mIn[20], line 1\u001b[0m\n\u001b[1;32m----> 1\u001b[0m \u001b[38;5;28;01mfor\u001b[39;00m first_name,df_1 \u001b[38;5;129;01min\u001b[39;00m df:\n\u001b[0;32m      2\u001b[0m     \u001b[38;5;28mprint\u001b[39m(first_name)\n\u001b[0;32m      3\u001b[0m     \u001b[38;5;28mprint\u001b[39m(df_1)\n",
      "\u001b[1;31mValueError\u001b[0m: too many values to unpack (expected 2)"
     ]
    }
   ],
   "source": [
    "for first_name,df_1 in df:\n",
    "    print(first_name)\n",
    "    print(df_1)"
   ]
  },
  {
   "cell_type": "code",
   "execution_count": null,
   "id": "1c7e578c",
   "metadata": {},
   "outputs": [],
   "source": [
    " "
   ]
  }
 ],
 "metadata": {
  "kernelspec": {
   "display_name": "Python 3 (ipykernel)",
   "language": "python",
   "name": "python3"
  },
  "language_info": {
   "codemirror_mode": {
    "name": "ipython",
    "version": 3
   },
   "file_extension": ".py",
   "mimetype": "text/x-python",
   "name": "python",
   "nbconvert_exporter": "python",
   "pygments_lexer": "ipython3",
   "version": "3.11.5"
  }
 },
 "nbformat": 4,
 "nbformat_minor": 5
}
