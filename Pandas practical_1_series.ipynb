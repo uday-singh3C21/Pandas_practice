{
 "cells": [
  {
   "cell_type": "code",
   "execution_count": 1,
   "id": "29fc5a3c",
   "metadata": {},
   "outputs": [],
   "source": [
    "import pandas as pd\n"
   ]
  },
  {
   "cell_type": "code",
   "execution_count": 2,
   "id": "9ae5310f",
   "metadata": {},
   "outputs": [
    {
     "data": {
      "text/plain": [
       "'2.0.3'"
      ]
     },
     "execution_count": 2,
     "metadata": {},
     "output_type": "execute_result"
    }
   ],
   "source": [
    "pd.__version__"
   ]
  },
  {
   "cell_type": "code",
   "execution_count": 3,
   "id": "70aa82c9",
   "metadata": {},
   "outputs": [
    {
     "name": "stdout",
     "output_type": "stream",
     "text": [
      "[1, 2, 3, 4, 'uday']\n"
     ]
    }
   ],
   "source": [
    "list_s=[1,2,3,4,'uday']\n",
    "print(list_s)"
   ]
  },
  {
   "cell_type": "code",
   "execution_count": 5,
   "id": "0e9154ca",
   "metadata": {},
   "outputs": [
    {
     "name": "stdout",
     "output_type": "stream",
     "text": [
      "0       1\n",
      "1       2\n",
      "2       3\n",
      "3       4\n",
      "4    uday\n",
      "dtype: object\n"
     ]
    }
   ],
   "source": [
    "series_1=pd.Series(list_s)\n",
    "print(series_1)"
   ]
  },
  {
   "cell_type": "code",
   "execution_count": 8,
   "id": "cffefc5f",
   "metadata": {},
   "outputs": [
    {
     "data": {
      "text/plain": [
       "pandas.core.series.Series"
      ]
     },
     "execution_count": 8,
     "metadata": {},
     "output_type": "execute_result"
    }
   ],
   "source": [
    "type(series_1)"
   ]
  },
  {
   "cell_type": "code",
   "execution_count": 10,
   "id": "fee6a495",
   "metadata": {},
   "outputs": [
    {
     "name": "stdout",
     "output_type": "stream",
     "text": [
      "0    1\n",
      "1    2\n",
      "2    3\n",
      "3    4\n",
      "dtype: int64\n"
     ]
    }
   ],
   "source": [
    "series_2=pd.Series([1,2,3,4])\n",
    "print(series_2)"
   ]
  },
  {
   "cell_type": "code",
   "execution_count": 11,
   "id": "a1818a9c",
   "metadata": {},
   "outputs": [
    {
     "name": "stdout",
     "output_type": "stream",
     "text": [
      "a    1\n",
      "b    2\n",
      "c    3\n",
      "d    4\n",
      "dtype: int64\n"
     ]
    }
   ],
   "source": [
    "series_3=pd.Series([1,2,3,4],index=[\"a\",\"b\",\"c\",\"d\"])\n",
    "print(series_3)"
   ]
  },
  {
   "cell_type": "code",
   "execution_count": 12,
   "id": "68a9aaea",
   "metadata": {},
   "outputs": [
    {
     "name": "stdout",
     "output_type": "stream",
     "text": [
      "a    1.0\n",
      "b    2.0\n",
      "c    3.0\n",
      "d    4.0\n",
      "dtype: float64\n"
     ]
    }
   ],
   "source": [
    "series_3=pd.Series([1,2,3,4],index=[\"a\",\"b\",\"c\",\"d\"],dtype=float)\n",
    "print(series_3)"
   ]
  },
  {
   "cell_type": "code",
   "execution_count": 14,
   "id": "b2b62caf",
   "metadata": {},
   "outputs": [
    {
     "name": "stdout",
     "output_type": "stream",
     "text": [
      "a    1\n",
      "b    2\n",
      "c    3\n",
      "d    4\n",
      "Name: data values, dtype: int64\n"
     ]
    }
   ],
   "source": [
    "series_3=pd.Series([1,2,3,4],index=[\"a\",\"b\",\"c\",\"d\"],name='data values')\n",
    "print(series_3)"
   ]
  },
  {
   "cell_type": "code",
   "execution_count": null,
   "id": "e42970b8",
   "metadata": {},
   "outputs": [],
   "source": [
    "scaler_s.pd"
   ]
  }
 ],
 "metadata": {
  "kernelspec": {
   "display_name": "Python 3 (ipykernel)",
   "language": "python",
   "name": "python3"
  },
  "language_info": {
   "codemirror_mode": {
    "name": "ipython",
    "version": 3
   },
   "file_extension": ".py",
   "mimetype": "text/x-python",
   "name": "python",
   "nbconvert_exporter": "python",
   "pygments_lexer": "ipython3",
   "version": "3.11.5"
  }
 },
 "nbformat": 4,
 "nbformat_minor": 5
}
